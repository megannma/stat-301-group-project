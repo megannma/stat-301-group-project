{
 "cells": [
  {
   "cell_type": "markdown",
   "id": "116e7227-ad7b-4a49-b7a1-0cf256b9ce96",
   "metadata": {},
   "source": [
    "# STAT 301 Final Group Report"
   ]
  },
  {
   "cell_type": "markdown",
   "id": "fb68f8e9-261a-4823-b7eb-463028417ddd",
   "metadata": {},
   "source": [
    "## Introduction"
   ]
  },
  {
   "cell_type": "markdown",
   "id": "d1f76365-a56d-4f59-b086-d12b6819101c",
   "metadata": {},
   "source": [
    "## Methods and Results"
   ]
  },
  {
   "cell_type": "markdown",
   "id": "e10a5772-5d3e-435b-898d-683011902462",
   "metadata": {},
   "source": [
    "## Discussion"
   ]
  },
  {
   "cell_type": "markdown",
   "id": "95798439-d1a4-451c-b6cf-7997fa205b5b",
   "metadata": {},
   "source": [
    "## References"
   ]
  },
  {
   "cell_type": "code",
   "execution_count": null,
   "id": "a685dbe0-93a0-4d1d-b2e9-ded7e399b114",
   "metadata": {},
   "outputs": [],
   "source": []
  }
 ],
 "metadata": {
  "kernelspec": {
   "display_name": "R",
   "language": "R",
   "name": "ir"
  },
  "language_info": {
   "codemirror_mode": "r",
   "file_extension": ".r",
   "mimetype": "text/x-r-source",
   "name": "R",
   "pygments_lexer": "r",
   "version": "4.2.3"
  }
 },
 "nbformat": 4,
 "nbformat_minor": 5
}
