{
 "cells": [
  {
   "cell_type": "markdown",
   "id": "9d7eafde-2d6e-4742-b570-6582d38fea0a",
   "metadata": {},
   "source": [
    "# Assignment 1: Data and Question(s)"
   ]
  },
  {
   "cell_type": "markdown",
   "id": "a254befa-772d-468c-b4a9-09158dbff356",
   "metadata": {},
   "source": [
    "## Data:\n",
    "The dataset chosen is called \"Heart failure clinical records\" and can be found at https://archive.ics.uci.edu/dataset/519/heart+failure+clinical+records, with more detailed information about the dataset being reported in a paper found at https://doi.org/10.1186/s12911-020-1023-5. It includes the medical records collected during the follow-up of 299 patients (the 299 observations) who had heart failure and consists of 13 variables, which correspond to the 13 observed clinical features of each patient. Hence, there are no missing values. The data was collected at the Faisalabad Institute of Cardiology and at the Allied Hospital in Faisalabad (Punjab, Pakistan), during April – December 2015. The patients consist of 105 women and 194 men, with ages ranging from 40 and 95 years old. Each patient had heart failure. The 13 variables, or clinical features, in the dataset are all integers and are described as follows:\n",
    "- age: age of the patient (years)\n",
    "- anaemia: decrease of red blood cells or hemoglobin (boolean)\n",
    "- creatinine phosphokinase  (CPK): level of the CPK enzyme in the blood (mcg/L)\n",
    "- diabetes: if the patient has diabetes (boolean)\n",
    "- ejection fraction: percentage of blood leaving the heart at each contraction  (percentage)\n",
    "- high blood pressure: if the patient has hypertension (boolean)\n",
    "- platelets: platelets in the blood (kiloplatelets/mL)\n",
    "- sex: woman or man (binary)\n",
    "- serum creatinine: level of serum creatinine in the blood (mg/dL)\n",
    "- serum sodium: level of serum sodium in the blood (mEq/L)\n",
    "- smoking: if the patient smokes or not (boolean)\n",
    "- time: follow-up period (days)\n",
    "- [target] death event: if the patient died during the follow-up period (boolean)"
   ]
  },
  {
   "cell_type": "markdown",
   "id": "a7aa3435-7191-4c29-8c95-056da1f0bbce",
   "metadata": {},
   "source": [
    "## Question:"
   ]
  },
  {
   "cell_type": "markdown",
   "id": "f05b5376-5431-4f88-adc6-570e7bfce260",
   "metadata": {},
   "source": [
    "My question is: Which clinical features of a patient can be used to accurately predict if the patient dies during the follow-up period? This question is focused on inference because I intend to analyze how the variables are related to each other. Although the dataset contains 12 other variables that can be used to predict the response variable (death event), not all of them may be useful for making a prediction. For instance, there could be multicollinearity in the dataset where some variables have a large variance inflation factor or high pairwise correlation coefficients. Hence, the data will help me address the question of interest because I can use the observed clinical features to calculate pairwise correlation coefficients, variance inflation factors, and other measures to assess how well a regression model fits the data. From there, I can select only the variables that are suitable for a regression model."
   ]
  },
  {
   "cell_type": "code",
   "execution_count": null,
   "id": "5a23566a-2bce-472d-ac7e-3b95b5ae195d",
   "metadata": {},
   "outputs": [],
   "source": []
  }
 ],
 "metadata": {
  "kernelspec": {
   "display_name": "R",
   "language": "R",
   "name": "ir"
  },
  "language_info": {
   "codemirror_mode": "r",
   "file_extension": ".r",
   "mimetype": "text/x-r-source",
   "name": "R",
   "pygments_lexer": "r",
   "version": "4.2.3"
  }
 },
 "nbformat": 4,
 "nbformat_minor": 5
}
